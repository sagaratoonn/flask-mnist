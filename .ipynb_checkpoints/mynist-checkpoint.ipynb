{
 "cells": [
  {
   "cell_type": "code",
   "execution_count": 1,
   "metadata": {},
   "outputs": [],
   "source": [
    "from PIL import Image\n",
    "import numpy as np\n",
    "import matplotlib.pyplot as plt\n",
    "import tensorflow as tf"
   ]
  },
  {
   "cell_type": "code",
   "execution_count": 47,
   "metadata": {},
   "outputs": [],
   "source": [
    "# create Keras DNN Model\n",
    "model = tf.keras.models.Sequential([\n",
    "  tf.keras.layers.Flatten(),\n",
    "  tf.keras.layers.Dense(512, activation=tf.nn.relu),\n",
    "  tf.keras.layers.Dropout(0.2),\n",
    "  tf.keras.layers.Dense(10, activation=tf.nn.softmax)\n",
    "])\n",
    "model.compile(optimizer='adam',\n",
    "              loss='sparse_categorical_crossentropy',\n",
    "              metrics=['accuracy'])"
   ]
  },
  {
   "cell_type": "code",
   "execution_count": 12,
   "metadata": {},
   "outputs": [],
   "source": [
    "# Load Images (0-9 numbers)\n",
    "images = []\n",
    "for i in range(10):\n",
    "    image = Image.open('./numbers/pict-' + str(i) + '.png').convert('L')\n",
    "    image = image.resize((28,28))\n",
    "    im = np.asarray(image, dtype=\"float32\")\n",
    "    im = im.reshape(28,28)\n",
    "    im = im / 255.0\n",
    "    images.append(im)\n"
   ]
  },
  {
   "cell_type": "code",
   "execution_count": 16,
   "metadata": {},
   "outputs": [
    {
     "data": {
      "text/plain": [
       "(10, 28, 28)"
      ]
     },
     "execution_count": 16,
     "metadata": {},
     "output_type": "execute_result"
    }
   ],
   "source": [
    "imagesND = np.array(images, dtype=float)\n",
    "imagesND.shape"
   ]
  },
  {
   "cell_type": "code",
   "execution_count": 19,
   "metadata": {},
   "outputs": [
    {
     "data": {
      "text/plain": [
       "numpy.ndarray"
      ]
     },
     "execution_count": 19,
     "metadata": {},
     "output_type": "execute_result"
    }
   ],
   "source": [
    "# Create Training Labels\n",
    "label = [0, 1, 2, 3, 4, 5, 6, 7, 8, 9]\n",
    "label = np.array(label, dtype=int)"
   ]
  },
  {
   "cell_type": "code",
   "execution_count": 53,
   "metadata": {},
   "outputs": [
    {
     "name": "stdout",
     "output_type": "stream",
     "text": [
      "Epoch 1/5\n",
      "10/10 [==============================] - 0s 3ms/step - loss: 1.6769 - acc: 0.4000\n",
      "Epoch 2/5\n",
      "10/10 [==============================] - 0s 2ms/step - loss: 1.0975 - acc: 0.6000\n",
      "Epoch 3/5\n",
      "10/10 [==============================] - 0s 2ms/step - loss: 0.6654 - acc: 1.0000\n",
      "Epoch 4/5\n",
      "10/10 [==============================] - 0s 3ms/step - loss: 0.4389 - acc: 1.0000\n",
      "Epoch 5/5\n",
      "10/10 [==============================] - 0s 3ms/step - loss: 0.3076 - acc: 1.0000\n"
     ]
    },
    {
     "data": {
      "text/plain": [
       "<tensorflow.python.keras.callbacks.History at 0x7f760ae43ac8>"
      ]
     },
     "execution_count": 53,
     "metadata": {},
     "output_type": "execute_result"
    }
   ],
   "source": [
    "# Fitting\n",
    "model.fit(imagesND, label, epochs=5)"
   ]
  },
  {
   "cell_type": "code",
   "execution_count": 67,
   "metadata": {},
   "outputs": [
    {
     "data": {
      "text/plain": [
       "array([2])"
      ]
     },
     "execution_count": 67,
     "metadata": {},
     "output_type": "execute_result"
    }
   ],
   "source": [
    "im = imagesND[2].reshape((1,28,28))\n",
    "model.predict_classes(im)"
   ]
  },
  {
   "cell_type": "code",
   "execution_count": 58,
   "metadata": {},
   "outputs": [],
   "source": [
    "tf.keras.models.save_model(\n",
    "    model,\n",
    "    \"./trained_model\",\n",
    "    overwrite=True,\n",
    "    include_optimizer=False\n",
    ")"
   ]
  },
  {
   "cell_type": "code",
   "execution_count": 59,
   "metadata": {},
   "outputs": [
    {
     "name": "stdout",
     "output_type": "stream",
     "text": [
      "WARNING:tensorflow:No training configuration found in save file: the model was *not* compiled. Compile it manually.\n"
     ]
    },
    {
     "data": {
      "text/plain": [
       "<tensorflow.python.keras.engine.sequential.Sequential at 0x7f760a287630>"
      ]
     },
     "execution_count": 59,
     "metadata": {},
     "output_type": "execute_result"
    }
   ],
   "source": [
    "tf.keras.models.load_model(\n",
    "    \"./trained_model\"\n",
    ")"
   ]
  },
  {
   "cell_type": "code",
   "execution_count": 66,
   "metadata": {},
   "outputs": [
    {
     "data": {
      "text/plain": [
       "str"
      ]
     },
     "execution_count": 66,
     "metadata": {},
     "output_type": "execute_result"
    }
   ],
   "source": [
    "pd = model.predict_classes(im)\n",
    "str(pd[0])"
   ]
  },
  {
   "cell_type": "code",
   "execution_count": 72,
   "metadata": {},
   "outputs": [],
   "source": [
    "from io import BytesIO\n",
    "import base64"
   ]
  },
  {
   "cell_type": "code",
   "execution_count": 69,
   "metadata": {},
   "outputs": [],
   "source": [
    "data = \"iVBORw0KGgoAAAANSUhEUgAAACAAAAAxCAIAAAA0kjydAAADkUlEQVR4nNyYP0v7ahTHe0uINgQJRURKcSiioQTnIqWziEiR4AuQIiIdxEkcRBxKX0AR6SBSSnBwLFIcJIQMRaSIiNTiEIqEDBJKCKEGMXco/EhzTtLoxeH+zubD+X4/j8+fc56GcBwn8psR/VX3vwJAjM14eXlpNBqiKHa73ff3d8MwGIaJx+Msy+ZyubW1tcXFxSC94x9PT0/r6+vRaNB/GY1G8/n88/Ozn4kv4Pz8nKKokOtAUVStVvsGoFqthrR2x8XFRShAq9UiSfIHAJIk7+7uxgOy2ewP3IeRy+XGAGRZRpUURZVKJUVRbNtWFKVcLtM0jWbKshwEODg4gBqCIG5vbz2ZkiQRBHLKDw8PgwCZTAZqCoUCXEnHcXZ2dmDy8vJyECCZTEKNJEkoQJIkmDw3NxcEmJychJp+v48CdF2HyRRFuXNC1SK//ZyamoKDX19f7j+9gOnpaagxDAMF9Pt9ODgzMxMEWFpagprHx0cUgI57HLyA1dVVqKnX6yhAEAQ46HWA+8YwjEdDEIQoip5MURThPWAYRtf1oFPkOE6lUoHzomm6XC73er0/Nxmttaenpx43vJoWCgV0TYIDvY++/aBUKqF3Ag2SJE9OTlCfoI72+vq6tbU11p3n+U6n42fiC9A0rVgswg2HQdP09va2qqrfAFxeXvrd3gCMIAihAOgpChmVSmUMQBRF9BnBcZwgCKqq2ratqmq9Xuc4DqYRBOEpvSOAz89PlmWhjOd527Y9UxkMBhsbGzA5nU77AhqNBhTMz89bloVulWVZqVQKSq6vr//kjKzG1dUVzN7b24vFYnA8EonEYrH9/X04PuLjnlE6nYbZ3W4Xnf4wOp0OlHAchy8R2kAGg0EAwLIsKGEYBl8iNNvTocKE2yfqIcPsXq8X4KUoChx0+4wA0H55c3MTAGg2m3BwxMe9oDzPw+xUKmWaJroBhmGgz5zNzU18k8/OztBp5vN5uNWWZaH9NRKJVKtVHPD29ub3rh6WCk3ThqWiVquhZ3rYG9yV1VuLdnd3UVn4KBaLbkMvQNO0RCLxY/dkMqlpWhDAcZz7+/vwP57cQdN0u932uOENp91uLywsfMudZdmHhwdo5dsyTdM8OjryvAPRmJ2dPT4+9jvK/wR/q/j4+Gg2m7Ist1otVVV1XTdNk6bpeDyeSCQymUw2m11ZWZmYmPBzGAP47/H//1bx64B/AwAA//8hAgL3rTY0NQAAAABJRU5ErkJggg==\""
   ]
  },
  {
   "cell_type": "code",
   "execution_count": 73,
   "metadata": {},
   "outputs": [],
   "source": [
    "images = []\n",
    "im = Image.open(BytesIO(base64.b64decode(data))).convert('L')\n",
    "im = im.resize((28,28))\n",
    "im = np.asarray(image, dtype=\"float32\")\n",
    "im = im.reshape(28,28)\n",
    "im = im / 255.0\n",
    "images.append(im)"
   ]
  },
  {
   "cell_type": "code",
   "execution_count": 75,
   "metadata": {},
   "outputs": [
    {
     "data": {
      "text/plain": [
       "<matplotlib.image.AxesImage at 0x7f7609399cf8>"
      ]
     },
     "execution_count": 75,
     "metadata": {},
     "output_type": "execute_result"
    },
    {
     "data": {
      "image/png": "[encoded data removed]",
      "text/plain": [
       "<Figure size 432x288 with 1 Axes>"
      ]
     },
     "metadata": {
      "needs_background": "light"
     },
     "output_type": "display_data"
    }
   ],
   "source": [
    "plt.imshow(im)"
   ]
  },
  {
   "cell_type": "code",
   "execution_count": null,
   "metadata": {},
   "outputs": [],
   "source": []
  }
 ],
 "metadata": {
  "kernelspec": {
   "display_name": "Python 3",
   "language": "python",
   "name": "python3"
  },
  "language_info": {
   "codemirror_mode": {
    "name": "ipython",
    "version": 3
   },
   "file_extension": ".py",
   "mimetype": "text/x-python",
   "name": "python",
   "nbconvert_exporter": "python",
   "pygments_lexer": "ipython3",
   "version": "3.5.2"
  }
 },
 "nbformat": 4,
 "nbformat_minor": 2
}
